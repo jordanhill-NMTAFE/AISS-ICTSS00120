{
 "cells": [
  {
   "cell_type": "markdown",
   "metadata": {},
   "source": [
    "# AT4: Apply Supervised Learning to Task Automation\n",
    "\n",
    "## Introduction\n",
    "\n",
    "In this project, you will apply supervised learning techniques to automate a task within a workplace environment of your choice. You are required to select a task, source or synthesize adequate training data, and train a supervised deep learning model to automate the selected task.\n",
    "\n",
    "Please follow the steps outlined below and complete each section with your code and explanations. Use this notebook to document your process, from understanding the dataset, preprocessing the data, building your model, and evaluating its performance.\n",
    "\n",
    "Make sure to keep your code well-commented and structured. Before submission, ensure that your notebook runs from start to finish without errors.\n",
    "\n",
    "Good luck!\n",
    "\n",
    "## Step 1: Task Selection\n",
    "\n",
    "Please provide a brief description of the task you have selected to automate and justify its relevance to the workplace scenario.\n",
    "\n",
    "### Task Description\n",
    "\n",
    "# [Provide a brief description of the task and its significance]\n"
   ]
  },
  {
   "cell_type": "code",
   "execution_count": 1,
   "metadata": {},
   "outputs": [],
   "source": [
    "# Insert your code here if necessary (e.g., to illustrate the task)"
   ]
  },
  {
   "cell_type": "markdown",
   "metadata": {},
   "source": [
    "## Step 2: Data Understanding\n",
    "\n",
    "Describe your data sourcing strategy here. Specify where your data comes from, and list any necessary steps for preprocessing.\n",
    "\n",
    "Define your datasets here if you are using pytorch datasets.\n",
    "\n",
    "### Data Collection\n",
    "\n",
    "# [Describe how and from where you collected your dataset]\n"
   ]
  },
  {
   "cell_type": "code",
   "execution_count": null,
   "metadata": {},
   "outputs": [],
   "source": [
    "# Data loading and preprocessing code"
   ]
  },
  {
   "cell_type": "code",
   "execution_count": null,
   "metadata": {},
   "outputs": [],
   "source": []
  },
  {
   "cell_type": "markdown",
   "metadata": {},
   "source": [
    "## Step 3: Data Preperation\n",
    "\n",
    "Apply stage 3 of CRISP_DM here. Arrange and verify your final dataset. Perform any of the following steps required here:\n",
    "\n",
    "- Data Cleaning\n",
    "- Normalization\n",
    "- Grouping of labelled or unlabelled data\n",
    "- one-hot encoding as needed\n",
    "- split datasets into train, validate, and test.\n",
    "\n",
    "### Data Preperation\n",
    "\n",
    "# [Describe preperation steps and why you are applying them]\n"
   ]
  },
  {
   "cell_type": "code",
   "execution_count": null,
   "metadata": {},
   "outputs": [],
   "source": [
    "# Code here"
   ]
  },
  {
   "cell_type": "markdown",
   "metadata": {},
   "source": [
    "## Step 4: Choice of Supervised Learning Technique\n",
    "\n",
    "Explain which supervised learning technique you have chosen and why. Consider its suitability for the task and data.\n",
    "\n",
    "### Technique Selection\n",
    "\n",
    "# [Explain your chosen technique and justify its suitability]\n"
   ]
  },
  {
   "cell_type": "code",
   "execution_count": null,
   "metadata": {},
   "outputs": [],
   "source": [
    "# Code for setting up the supervised learning model"
   ]
  },
  {
   "cell_type": "markdown",
   "metadata": {
    "tags": [
     "parameters"
    ]
   },
   "source": [
    "## Step 5: Model Development and Training\n",
    "\n",
    "Construct and train your supervised learning model here. Document your choices for the model architecture and training process.\n",
    "\n",
    "### Model Architecture\n",
    "\n",
    "# [Explain the components and layout of your model architecture]\n"
   ]
  },
  {
   "cell_type": "code",
   "execution_count": null,
   "metadata": {},
   "outputs": [],
   "source": [
    "# Code for model building and training"
   ]
  },
  {
   "cell_type": "markdown",
   "metadata": {},
   "source": [
    "## Step 6: Model Evaluation and Task Automation\n"
   ]
  },
  {
   "cell_type": "markdown",
   "metadata": {},
   "source": [
    "Evaluate your model's performance using appropriate metrics. Then, demonstrate how your model can be used to automate the selected task.\n"
   ]
  },
  {
   "cell_type": "markdown",
   "metadata": {},
   "source": [
    "### Model Evaluation\n",
    "\n",
    "# [Discuss evaluation metrics and the results obtained]\n"
   ]
  },
  {
   "cell_type": "code",
   "execution_count": null,
   "metadata": {},
   "outputs": [],
   "source": [
    "# Code for model evaluation and task automation demonstration"
   ]
  },
  {
   "cell_type": "markdown",
   "metadata": {},
   "source": [
    "## Step 7: Documentation and Reflection\n",
    "\n",
    "Provide documentation of your process, findings, ethical considerations, and any limitations encountered. Reflect on the potential improvements for future work.\n",
    "\n",
    "### Process Documentation\n",
    "\n",
    "# [Detail the steps taken in your process and any insights gained]\n",
    "\n",
    "### Ethical Considerations\n",
    "\n",
    "# [Address any ethical considerations and biases]\n",
    "\n",
    "### Limitations and Improvements\n",
    "\n",
    "# [Discuss any limitations you faced and suggest improvements]\n"
   ]
  },
  {
   "cell_type": "markdown",
   "metadata": {},
   "source": [
    "## Conclusion\n",
    "\n",
    "Summarize your findings and the overall effectiveness of your supervised learning model in automating the workplace task.\n",
    "\n",
    "### Task Automation Success\n",
    "\n",
    "# [Conclude with the outcomes of automating your chosen task through supervised learning]\n",
    "\n",
    "## Submission\n",
    "\n",
    "Please ensure your notebook runs from top to bottom without any errors before submission. Once verified, you can download your notebook as an .ipynb file, ready for submission.\n",
    "\n",
    "Good luck with your model development, and we look forward to seeing your innovative solutions to workplace automation!\n"
   ]
  }
 ],
 "metadata": {
  "kernelspec": {
   "display_name": "Assignment_2-pj5nSJCP",
   "language": "python",
   "name": "python3"
  },
  "language_info": {
   "codemirror_mode": {
    "name": "ipython",
    "version": 3
   },
   "file_extension": ".py",
   "mimetype": "text/x-python",
   "name": "python",
   "nbconvert_exporter": "python",
   "pygments_lexer": "ipython3",
   "version": "3.12.1"
  }
 },
 "nbformat": 4,
 "nbformat_minor": 2
}
